{
 "cells": [
  {
   "cell_type": "code",
   "execution_count": 1,
   "metadata": {},
   "outputs": [],
   "source": [
    "import pandas as pd"
   ]
  },
  {
   "cell_type": "code",
   "execution_count": 2,
   "metadata": {},
   "outputs": [
    {
     "data": {
      "text/html": [
       "<div>\n",
       "<style scoped>\n",
       "    .dataframe tbody tr th:only-of-type {\n",
       "        vertical-align: middle;\n",
       "    }\n",
       "\n",
       "    .dataframe tbody tr th {\n",
       "        vertical-align: top;\n",
       "    }\n",
       "\n",
       "    .dataframe thead th {\n",
       "        text-align: right;\n",
       "    }\n",
       "</style>\n",
       "<table border=\"1\" class=\"dataframe\">\n",
       "  <thead>\n",
       "    <tr style=\"text-align: right;\">\n",
       "      <th></th>\n",
       "      <th>family,name,class,cap-diameter (cm),cap-shape,cap-surface,cap-color,does-bruise-or-bleed,gill-attachment,gill-spacing,gill-color,stem-height (cm),stem-width (mm),stem-root,stem-surface,stem-color,veil-type,veil-color,has-ring,ring-type,spore-print-color,habitat,season</th>\n",
       "    </tr>\n",
       "  </thead>\n",
       "  <tbody>\n",
       "    <tr>\n",
       "      <th>0</th>\n",
       "      <td>Amanita,Amanita vaginata,[e],[5, 10],[c, x, f]...</td>\n",
       "    </tr>\n",
       "    <tr>\n",
       "      <th>1</th>\n",
       "      <td>Amanita,Saproamanita thiersii,[p],[3.5, 10],[x...</td>\n",
       "    </tr>\n",
       "    <tr>\n",
       "      <th>2</th>\n",
       "      <td>Amanita,Amanita russuloides,[p],[3, 9],[x],[t,...</td>\n",
       "    </tr>\n",
       "    <tr>\n",
       "      <th>3</th>\n",
       "      <td>Amanita,Amanita flavorubescens,[p],[4.5, 14],[...</td>\n",
       "    </tr>\n",
       "    <tr>\n",
       "      <th>4</th>\n",
       "      <td>Amanita,Amanita flavoconia,[p],[3, 9],[x, f],[...</td>\n",
       "    </tr>\n",
       "    <tr>\n",
       "      <th>...</th>\n",
       "      <td>...</td>\n",
       "    </tr>\n",
       "    <tr>\n",
       "      <th>94</th>\n",
       "      <td>Pleurotus,Pleurotus dryinus,[e],[4, 12],[x],[s...</td>\n",
       "    </tr>\n",
       "    <tr>\n",
       "      <th>95</th>\n",
       "      <td>Pleurotus,Pleurotus pulmonarius,[e],[2, 12],[x...</td>\n",
       "    </tr>\n",
       "    <tr>\n",
       "      <th>96</th>\n",
       "      <td>Panellus,Panellus stipticus,[p],[1, 3],[x],[I,...</td>\n",
       "    </tr>\n",
       "    <tr>\n",
       "      <th>97</th>\n",
       "      <td>Gyromitra,Gyromitra caroliniana,[e],[5, 10],[o...</td>\n",
       "    </tr>\n",
       "    <tr>\n",
       "      <th>98</th>\n",
       "      <td>Helvella ,Helvella sulcata,[p],[1, 5],[o],[w],...</td>\n",
       "    </tr>\n",
       "  </tbody>\n",
       "</table>\n",
       "<p>99 rows × 1 columns</p>\n",
       "</div>"
      ],
      "text/plain": [
       "   family,name,class,cap-diameter (cm),cap-shape,cap-surface,cap-color,does-bruise-or-bleed,gill-attachment,gill-spacing,gill-color,stem-height (cm),stem-width (mm),stem-root,stem-surface,stem-color,veil-type,veil-color,has-ring,ring-type,spore-print-color,habitat,season\n",
       "0   Amanita,Amanita vaginata,[e],[5, 10],[c, x, f]...                                                                                                                                                                                                                          \n",
       "1   Amanita,Saproamanita thiersii,[p],[3.5, 10],[x...                                                                                                                                                                                                                          \n",
       "2   Amanita,Amanita russuloides,[p],[3, 9],[x],[t,...                                                                                                                                                                                                                          \n",
       "3   Amanita,Amanita flavorubescens,[p],[4.5, 14],[...                                                                                                                                                                                                                          \n",
       "4   Amanita,Amanita flavoconia,[p],[3, 9],[x, f],[...                                                                                                                                                                                                                          \n",
       "..                                                ...                                                                                                                                                                                                                          \n",
       "94  Pleurotus,Pleurotus dryinus,[e],[4, 12],[x],[s...                                                                                                                                                                                                                          \n",
       "95  Pleurotus,Pleurotus pulmonarius,[e],[2, 12],[x...                                                                                                                                                                                                                          \n",
       "96  Panellus,Panellus stipticus,[p],[1, 3],[x],[I,...                                                                                                                                                                                                                          \n",
       "97  Gyromitra,Gyromitra caroliniana,[e],[5, 10],[o...                                                                                                                                                                                                                          \n",
       "98  Helvella ,Helvella sulcata,[p],[1, 5],[o],[w],...                                                                                                                                                                                                                          \n",
       "\n",
       "[99 rows x 1 columns]"
      ]
     },
     "execution_count": 2,
     "metadata": {},
     "output_type": "execute_result"
    }
   ],
   "source": [
    "data = pd.read_csv('north_american_primary_data.csv', sep = ';')\n",
    "data"
   ]
  },
  {
   "cell_type": "code",
   "execution_count": null,
   "metadata": {},
   "outputs": [],
   "source": []
  }
 ],
 "metadata": {
  "kernelspec": {
   "display_name": "Python 3",
   "language": "python",
   "name": "python3"
  },
  "language_info": {
   "codemirror_mode": {
    "name": "ipython",
    "version": 3
   },
   "file_extension": ".py",
   "mimetype": "text/x-python",
   "name": "python",
   "nbconvert_exporter": "python",
   "pygments_lexer": "ipython3",
   "version": "3.6.10"
  }
 },
 "nbformat": 4,
 "nbformat_minor": 4
}
