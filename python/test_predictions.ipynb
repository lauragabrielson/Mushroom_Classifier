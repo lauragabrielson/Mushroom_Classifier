{
 "cells": [
  {
   "cell_type": "code",
   "execution_count": null,
   "metadata": {},
   "outputs": [],
   "source": [
    "import pandas as pd\n",
    "import joblib\n",
    "import warnings\n",
    "warnings.simplefilter('ignore', FutureWarning)"
   ]
  },
  {
   "cell_type": "code",
   "execution_count": null,
   "metadata": {},
   "outputs": [],
   "source": [
    "# Data file paths\n",
    "mushroom_path = \"../secondary_data_no_miss.csv\"\n",
    "\n",
    "# Read the data files\n",
    "mushroom_data = pd.read_csv(mushroom_path, sep = \";\")\n",
    "\n",
    "mushroom_data\n",
    "\n",
    "# replace all letters with actual value\n",
    "\n",
    "mushroom_data = mushroom_data.replace(\n",
    "    {\n",
    "    'class': {'p': 'poisonous', 'e': 'edible'},\n",
    "    'cap-shape': {'b': 'bell', 'c': 'conical', 'x': 'convex', 'f': 'flat', 's': 'sunken', 'p': 'spherical', 'o': 'others'},\n",
    "    'cap-surface': {'i': 'fibrous', 'g': 'grooves', 'y': 'scaly', 's': 'smooth', 'd': 'dry', 'h': 'shiny', 'l': 'leathery', 'k': 'silky', 't': 'sticky', 'w': 'wrinkled', 'e': 'fleshy'},\n",
    "    'cap-color': {'n': 'brown', 'b': 'buff', 'g': 'gray', 'r': 'green', 'p': 'pink', 'u': 'purple', 'e': 'red', 'w': 'white', 'y': 'yellow', 'l': 'blue', 'o': 'orange', 'k': 'black'},\n",
    "    'gill-attachment': {'a': 'adnate', 'x': 'adnexed', 'd': 'decurrent', 'e': 'free', 's': 'sinuate', 'p': 'pores', 'f': 'none', '?': 'unknown'},\n",
    "    'gill-spacing': {'c': 'close', 'd': 'distant', 'f': 'none'},\n",
    "    'gill-color': {'n': 'brown', 'b': 'buff', 'g': 'gray', 'r': 'green', 'p': 'pink', 'u': 'purple', 'e': 'red', 'w': 'white', 'y': 'yellow', 'l': 'blue', 'o': 'orange', 'k': 'black', 'f': 'none'},\n",
    "    'stem-color': {'n': 'brown', 'b': 'buff', 'g': 'gray', 'r': 'green', 'p': 'pink', 'u': 'purple', 'e': 'red', 'w': 'white', 'y': 'yellow', 'l': 'blue', 'o': 'orange', 'k': 'black', 'f': 'none'},\n",
    "    'ring-type': {'c': 'cobwebby', 'e': 'evanescent', 'r': 'flaring', 'g': 'grooved', 'l': 'large', 'p': 'pendant', 's': 'sheathing', 'z': 'zone', 'y': 'scaly', 'm': 'movable', 'f': 'none', '?': 'unknown'},\n",
    "    'habitat': {'g': 'grasses', 'l': 'leaves', 'm': 'meadows', 'p': 'paths', 'h': 'heaths', 'u': 'urban', 'w': 'waste', 'd': 'woods'},\n",
    "    'season': {'s': 'spring', 'u': 'summer', 'a': 'autumn', 'w': 'winter'}\n",
    "    })\n",
    "\n",
    "# convert t/f columns to boolean.\n",
    "mushroom_data['does-bruise-or-bleed'] = mushroom_data['does-bruise-or-bleed']=='t'\n",
    "mushroom_data['has-ring'] = mushroom_data['has-ring']=='t'\n",
    "mushroom_data"
   ]
  },
  {
   "cell_type": "code",
   "execution_count": null,
   "metadata": {},
   "outputs": [],
   "source": [
    "## Test standard scaled KNN on three quantitative columns from pickle"
   ]
  },
  {
   "cell_type": "code",
   "execution_count": null,
   "metadata": {},
   "outputs": [],
   "source": [
    "# Establish X and y\n",
    "\n",
    "y = mushroom_data[\"class\"]\n",
    "target_names = [\"edible\", \"poisonous\"]\n",
    "\n",
    "X = mushroom_data[[\"cap-diameter\", \"stem-height\", \"stem-width\"]]\n",
    "X.head()"
   ]
  },
  {
   "cell_type": "code",
   "execution_count": null,
   "metadata": {},
   "outputs": [],
   "source": [
    "# Load the model from the file\n",
    "knn_from_joblib = joblib.load('knn_standard_three.pkl')\n",
    "\n",
    "standard_prediction = []\n",
    "\n",
    "# Use the loaded model to make predictions\n",
    "standard_prediction = knn_from_joblib.predict(X)"
   ]
  },
  {
   "cell_type": "code",
   "execution_count": null,
   "metadata": {},
   "outputs": [],
   "source": [
    "standard_prediction"
   ]
  },
  {
   "cell_type": "code",
   "execution_count": null,
   "metadata": {},
   "outputs": [],
   "source": [
    "# Load the model from the file\n",
    "knn_from_joblib = joblib.load('knn_minmax_three.pkl')\n",
    "\n",
    "minmax_prediction = []\n",
    "\n",
    "# Use the loaded model to make predictions\n",
    "minmax_prediction = knn_from_joblib.predict(X)"
   ]
  },
  {
   "cell_type": "code",
   "execution_count": null,
   "metadata": {},
   "outputs": [],
   "source": [
    "## Assemble a dataframe to compare results\n",
    "\n",
    "comparison = pd.DataFrame({\n",
    "    \"KNN Standard Three\": standard_prediction,\n",
    "    \"KNN MinMax Three\": minmax_prediction\n",
    "})\n",
    "\n",
    "comparison.head()"
   ]
  },
  {
   "cell_type": "code",
   "execution_count": null,
   "metadata": {},
   "outputs": [],
   "source": [
    "poison = comparison.loc[comparison['KNN MinMax Three'] == \"poisonous\"]\n",
    "poison"
   ]
  },
  {
   "cell_type": "code",
   "execution_count": null,
   "metadata": {},
   "outputs": [],
   "source": [
    "# Load the model\n",
    "from tensorflow.keras.models import load_model\n",
    "mushroom_model = load_model(\"mushroom_trained.h5\")"
   ]
  },
  {
   "cell_type": "code",
   "execution_count": null,
   "metadata": {},
   "outputs": [],
   "source": [
    "from tensorflow.keras.utils import to_categorical\n",
    "\n",
    "# Data file paths\n",
    "mushroom_path = \"mushroom_category.csv\"\n",
    "\n",
    "# Read the data files\n",
    "mushroom_category = pd.read_csv(mushroom_path)\n",
    "\n",
    "mushroom_category"
   ]
  },
  {
   "cell_type": "code",
   "execution_count": null,
   "metadata": {},
   "outputs": [],
   "source": [
    "X = mushroom_category.drop(\"class\", axis=1)\n",
    "y = mushroom_category[\"class\"]\n",
    "print(X.shape, y.shape)"
   ]
  },
  {
   "cell_type": "code",
   "execution_count": null,
   "metadata": {},
   "outputs": [],
   "source": [
    "from sklearn.preprocessing import LabelEncoder, MinMaxScaler\n",
    "from tensorflow.keras.utils import to_categorical"
   ]
  },
  {
   "cell_type": "code",
   "execution_count": null,
   "metadata": {},
   "outputs": [],
   "source": [
    "X_scaler = MinMaxScaler().fit(X)\n",
    "X_scaled = X_scaler.transform(X)\n",
    "\n",
    "# Step 1: Label-encode data set\n",
    "label_encoder = LabelEncoder()\n",
    "label_encoder.fit(y)\n",
    "encoded_y = label_encoder.transform(y)\n",
    "\n",
    "# Step 2: Convert encoded labels to one-hot-encoding\n",
    "y_categorical = to_categorical(encoded_y)\n",
    "\n",
    "X_scaled.shape"
   ]
  },
  {
   "cell_type": "code",
   "execution_count": null,
   "metadata": {},
   "outputs": [],
   "source": [
    "# Load the model\n",
    "from tensorflow.keras.models import load_model\n",
    "mushroom_model = load_model(\"mushroom_trained.h5\")"
   ]
  },
  {
   "cell_type": "code",
   "execution_count": null,
   "metadata": {},
   "outputs": [],
   "source": [
    "model_loss, model_accuracy = mushroom_model.evaluate(\n",
    "    X_scaled, y_categorical, verbose=2)\n",
    "print(\n",
    "    f\"Normal Neural Network - Loss: {model_loss}, Accuracy: {model_accuracy}\")"
   ]
  },
  {
   "cell_type": "code",
   "execution_count": null,
   "metadata": {},
   "outputs": [],
   "source": []
  }
 ],
 "metadata": {
  "kernelspec": {
   "display_name": "Python 3",
   "language": "python",
   "name": "python3"
  },
  "language_info": {
   "codemirror_mode": {
    "name": "ipython",
    "version": 3
   },
   "file_extension": ".py",
   "mimetype": "text/x-python",
   "name": "python",
   "nbconvert_exporter": "python",
   "pygments_lexer": "ipython3",
   "version": "3.6.10"
  }
 },
 "nbformat": 4,
 "nbformat_minor": 4
}
